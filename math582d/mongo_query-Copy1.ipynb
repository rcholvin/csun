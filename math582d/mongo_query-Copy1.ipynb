{
 "metadata": {
  "name": "",
  "signature": "sha256:bf86670d2e6d237cd1e1805a7481ba44705ed606ad4916b60d2b546ea2260b07"
 },
 "nbformat": 3,
 "nbformat_minor": 0,
 "worksheets": [
  {
   "cells": [
    {
     "cell_type": "code",
     "collapsed": false,
     "input": [
      "\n",
      "import pymongo\n",
      "\n",
      "# Connection to Mongo DB\n",
      "def connectMongo():\n",
      "    try:\n",
      "        conn=pymongo.MongoClient()\n",
      "        print \"Connected successfully!!!\"\n",
      "    except pymongo.errors.ConnectionFailure, e:\n",
      "       print \"Could not connect to MongoDB: %s\" % e \n",
      "    return conn\n",
      "\n",
      "conn=connectMongo()"
     ],
     "language": "python",
     "metadata": {},
     "outputs": []
    },
    {
     "cell_type": "code",
     "collapsed": false,
     "input": [
      "\n"
     ],
     "language": "python",
     "metadata": {},
     "outputs": []
    },
    {
     "cell_type": "code",
     "collapsed": false,
     "input": [
      "db=conn.twitter"
     ],
     "language": "python",
     "metadata": {},
     "outputs": []
    },
    {
     "cell_type": "code",
     "collapsed": false,
     "input": [],
     "language": "python",
     "metadata": {},
     "outputs": []
    },
    {
     "cell_type": "code",
     "collapsed": false,
     "input": [
      "collection=db.lines"
     ],
     "language": "python",
     "metadata": {},
     "outputs": []
    },
    {
     "cell_type": "code",
     "collapsed": false,
     "input": [
      "name_list=['katy perry',\n",
      "'britney spears',\n",
      "'taylor swift',\n",
      "'kim kardashian',\n",
      "'justin bieber',\n",
      "'justin timberlake',\n",
      " 'chris brown',\n",
      " 'nicki minaj',\n",
      " 'lady gaga',\n",
      " 'miley cyrus',\n",
      " 'beyonce knowles',\n",
      " 'selena gomez',\n",
      " 'rihanna',\n",
      " 'ashton kutcher',\n",
      " 'ellen gegeneres',\n",
      " 'cristian oronaldo',\n",
      " 'oprah winfrey',\n",
      " 'jennifer lopez',\n",
      " 'shakira']\n"
     ],
     "language": "python",
     "metadata": {},
     "outputs": [],
     "prompt_number": 1
    },
    {
     "cell_type": "code",
     "collapsed": false,
     "input": [
      "def searchMongo(name,collection, limit=10):\n",
      "    name=name.split(' ')\n",
      "    if(len(name)>1):\n",
      "        first=name[0]\n",
      "        last=name[1]\n",
      "    elif((len(name)==1):\n",
      "        first=name[0]\n",
      "        last=''\n",
      "    else:\n",
      "        first=''\n",
      "        last=''\n",
      "        \n",
      "    line1=r'love.*'+first+' ?'+last\n",
      "    line2=first+' ?'+last+r'.*love'\n",
      "    re_exp=re.compile(r'('+line1+r')|('+line2+r')', re.IGNORECASE)\n",
      "    \n",
      "    query={'$and':\n",
      "              [ {'text':re_exp},\n",
      "                {'text':{'$not':re.compile(r'^.?@'+first+last, re.IGNORECASE)}}]\n",
      "        }\n",
      "    \n",
      "    return list(collection.find(query).limit(limit))"
     ],
     "language": "python",
     "metadata": {},
     "outputs": [],
     "prompt_number": 17
    },
    {
     "cell_type": "code",
     "collapsed": false,
     "input": [],
     "language": "python",
     "metadata": {},
     "outputs": []
    }
   ],
   "metadata": {}
  }
 ]
}